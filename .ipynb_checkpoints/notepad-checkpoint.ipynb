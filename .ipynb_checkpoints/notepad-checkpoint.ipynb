{
 "cells": [
  {
   "cell_type": "code",
   "execution_count": 1,
   "id": "d661a732-2479-4f54-9dcc-844cb7927a77",
   "metadata": {},
   "outputs": [],
   "source": [
    "import pandas as pd\n",
    "import numpy as np"
   ]
  },
  {
   "cell_type": "code",
   "execution_count": 2,
   "id": "78b3582a-e04c-49b6-a97d-3f47ae1230a8",
   "metadata": {},
   "outputs": [],
   "source": [
    "# Load and clean the dataset\n",
    "df = pd.read_csv(\"data\\gym_floor_raw.csv\")"
   ]
  },
  {
   "cell_type": "code",
   "execution_count": 3,
   "id": "5aad73ee-07ad-4e4c-8088-97524bd02bdb",
   "metadata": {},
   "outputs": [
    {
     "data": {
      "image/png": "[encoded data removed]",
      "text/plain": [
       "<Figure size 640x480 with 1 Axes>"
      ]
     },
     "metadata": {},
     "output_type": "display_data"
    }
   ],
   "source": [
    "import matplotlib.pyplot as plt\n",
    "\n",
    "df[\"Quoted_Price_per_sqft\"] = df[\"Quoted_Price\"] / df[\"Size_sqft\"]\n",
    "plt.scatter(df[\"Quoted_Price_per_sqft\"], df[\"GP_Percent\"])\n",
    "plt.xlabel(\"Price per Sqft\")\n",
    "plt.ylabel(\"GP%\")\n",
    "plt.title(\"GP% vs Price\")\n",
    "plt.show()"
   ]
  },
  {
   "cell_type": "code",
   "execution_count": 4,
   "id": "448c6dff-fb4d-453f-b264-e06d82c4095e",
   "metadata": {},
   "outputs": [
    {
     "data": {
      "text/html": [
       "<div>\n",
       "<style scoped>\n",
       "    .dataframe tbody tr th:only-of-type {\n",
       "        vertical-align: middle;\n",
       "    }\n",
       "\n",
       "    .dataframe tbody tr th {\n",
       "        vertical-align: top;\n",
       "    }\n",
       "\n",
       "    .dataframe thead th {\n",
       "        text-align: right;\n",
       "    }\n",
       "</style>\n",
       "<table border=\"1\" class=\"dataframe\">\n",
       "  <thead>\n",
       "    <tr style=\"text-align: right;\">\n",
       "      <th></th>\n",
       "      <th>count</th>\n",
       "      <th>mean</th>\n",
       "      <th>std</th>\n",
       "      <th>min</th>\n",
       "      <th>25%</th>\n",
       "      <th>50%</th>\n",
       "      <th>75%</th>\n",
       "      <th>max</th>\n",
       "    </tr>\n",
       "    <tr>\n",
       "      <th>Coats</th>\n",
       "      <th></th>\n",
       "      <th></th>\n",
       "      <th></th>\n",
       "      <th></th>\n",
       "      <th></th>\n",
       "      <th></th>\n",
       "      <th></th>\n",
       "      <th></th>\n",
       "    </tr>\n",
       "  </thead>\n",
       "  <tbody>\n",
       "    <tr>\n",
       "      <th>1.0</th>\n",
       "      <td>13.0</td>\n",
       "      <td>1617.203077</td>\n",
       "      <td>691.226965</td>\n",
       "      <td>907.43</td>\n",
       "      <td>1244.72</td>\n",
       "      <td>1309.640</td>\n",
       "      <td>1755.2200</td>\n",
       "      <td>3499.25</td>\n",
       "    </tr>\n",
       "    <tr>\n",
       "      <th>2.0</th>\n",
       "      <td>28.0</td>\n",
       "      <td>2692.471786</td>\n",
       "      <td>478.247242</td>\n",
       "      <td>2017.23</td>\n",
       "      <td>2369.48</td>\n",
       "      <td>2520.055</td>\n",
       "      <td>2982.9875</td>\n",
       "      <td>3907.96</td>\n",
       "    </tr>\n",
       "  </tbody>\n",
       "</table>\n",
       "</div>"
      ],
      "text/plain": [
       "       count         mean         std      min      25%       50%        75%  \\\n",
       "Coats                                                                          \n",
       "1.0     13.0  1617.203077  691.226965   907.43  1244.72  1309.640  1755.2200   \n",
       "2.0     28.0  2692.471786  478.247242  2017.23  2369.48  2520.055  2982.9875   \n",
       "\n",
       "           max  \n",
       "Coats           \n",
       "1.0    3499.25  \n",
       "2.0    3907.96  "
      ]
     },
     "execution_count": 4,
     "metadata": {},
     "output_type": "execute_result"
    }
   ],
   "source": [
    "df.groupby(\"Coats\")[\"v_mat_cost\"].describe()"
   ]
  },
  {
   "cell_type": "code",
   "execution_count": 5,
   "id": "8d2a526f-6f33-45bb-b713-4b52cd778420",
   "metadata": {},
   "outputs": [
    {
     "data": {
      "text/html": [
       "<div>\n",
       "<style scoped>\n",
       "    .dataframe tbody tr th:only-of-type {\n",
       "        vertical-align: middle;\n",
       "    }\n",
       "\n",
       "    .dataframe tbody tr th {\n",
       "        vertical-align: top;\n",
       "    }\n",
       "\n",
       "    .dataframe thead th {\n",
       "        text-align: right;\n",
       "    }\n",
       "</style>\n",
       "<table border=\"1\" class=\"dataframe\">\n",
       "  <thead>\n",
       "    <tr style=\"text-align: right;\">\n",
       "      <th></th>\n",
       "      <th>count</th>\n",
       "      <th>mean</th>\n",
       "      <th>std</th>\n",
       "      <th>min</th>\n",
       "      <th>25%</th>\n",
       "      <th>50%</th>\n",
       "      <th>75%</th>\n",
       "      <th>max</th>\n",
       "    </tr>\n",
       "    <tr>\n",
       "      <th>Coats</th>\n",
       "      <th></th>\n",
       "      <th></th>\n",
       "      <th></th>\n",
       "      <th></th>\n",
       "      <th></th>\n",
       "      <th></th>\n",
       "      <th></th>\n",
       "      <th></th>\n",
       "    </tr>\n",
       "  </thead>\n",
       "  <tbody>\n",
       "    <tr>\n",
       "      <th>1.0</th>\n",
       "      <td>13.0</td>\n",
       "      <td>0.201112</td>\n",
       "      <td>0.019962</td>\n",
       "      <td>0.181779</td>\n",
       "      <td>0.185813</td>\n",
       "      <td>0.192922</td>\n",
       "      <td>0.215052</td>\n",
       "      <td>0.245536</td>\n",
       "    </tr>\n",
       "    <tr>\n",
       "      <th>2.0</th>\n",
       "      <td>28.0</td>\n",
       "      <td>0.319067</td>\n",
       "      <td>0.032208</td>\n",
       "      <td>0.264419</td>\n",
       "      <td>0.299617</td>\n",
       "      <td>0.322152</td>\n",
       "      <td>0.339993</td>\n",
       "      <td>0.372284</td>\n",
       "    </tr>\n",
       "  </tbody>\n",
       "</table>\n",
       "</div>"
      ],
      "text/plain": [
       "       count      mean       std       min       25%       50%       75%  \\\n",
       "Coats                                                                      \n",
       "1.0     13.0  0.201112  0.019962  0.181779  0.185813  0.192922  0.215052   \n",
       "2.0     28.0  0.319067  0.032208  0.264419  0.299617  0.322152  0.339993   \n",
       "\n",
       "            max  \n",
       "Coats            \n",
       "1.0    0.245536  \n",
       "2.0    0.372284  "
      ]
     },
     "execution_count": 5,
     "metadata": {},
     "output_type": "execute_result"
    }
   ],
   "source": [
    "df[\"v_cost_per_sqft\"] = df[\"v_mat_cost\"] / df[\"Size_sqft\"]\n",
    "df.groupby(\"Coats\")[\"v_cost_per_sqft\"].describe()"
   ]
  },
  {
   "cell_type": "code",
   "execution_count": 8,
   "id": "1082f0c3-6eeb-4bc4-8c0c-511572b06355",
   "metadata": {},
   "outputs": [
    {
     "data": {
      "text/html": [
       "<div>\n",
       "<style scoped>\n",
       "    .dataframe tbody tr th:only-of-type {\n",
       "        vertical-align: middle;\n",
       "    }\n",
       "\n",
       "    .dataframe tbody tr th {\n",
       "        vertical-align: top;\n",
       "    }\n",
       "\n",
       "    .dataframe thead th {\n",
       "        text-align: right;\n",
       "    }\n",
       "</style>\n",
       "<table border=\"1\" class=\"dataframe\">\n",
       "  <thead>\n",
       "    <tr style=\"text-align: right;\">\n",
       "      <th></th>\n",
       "      <th>count</th>\n",
       "      <th>mean</th>\n",
       "      <th>std</th>\n",
       "      <th>min</th>\n",
       "      <th>25%</th>\n",
       "      <th>50%</th>\n",
       "      <th>75%</th>\n",
       "      <th>max</th>\n",
       "    </tr>\n",
       "    <tr>\n",
       "      <th>wet_prep</th>\n",
       "      <th></th>\n",
       "      <th></th>\n",
       "      <th></th>\n",
       "      <th></th>\n",
       "      <th></th>\n",
       "      <th></th>\n",
       "      <th></th>\n",
       "      <th></th>\n",
       "    </tr>\n",
       "  </thead>\n",
       "  <tbody>\n",
       "    <tr>\n",
       "      <th>0.0</th>\n",
       "      <td>11.0</td>\n",
       "      <td>0.423263</td>\n",
       "      <td>0.079728</td>\n",
       "      <td>0.280063</td>\n",
       "      <td>0.373980</td>\n",
       "      <td>0.400816</td>\n",
       "      <td>0.475496</td>\n",
       "      <td>0.549865</td>\n",
       "    </tr>\n",
       "    <tr>\n",
       "      <th>1.0</th>\n",
       "      <td>30.0</td>\n",
       "      <td>0.455175</td>\n",
       "      <td>0.065585</td>\n",
       "      <td>0.331678</td>\n",
       "      <td>0.409229</td>\n",
       "      <td>0.452374</td>\n",
       "      <td>0.517073</td>\n",
       "      <td>0.550676</td>\n",
       "    </tr>\n",
       "  </tbody>\n",
       "</table>\n",
       "</div>"
      ],
      "text/plain": [
       "          count      mean       std       min       25%       50%       75%  \\\n",
       "wet_prep                                                                      \n",
       "0.0        11.0  0.423263  0.079728  0.280063  0.373980  0.400816  0.475496   \n",
       "1.0        30.0  0.455175  0.065585  0.331678  0.409229  0.452374  0.517073   \n",
       "\n",
       "               max  \n",
       "wet_prep            \n",
       "0.0       0.549865  \n",
       "1.0       0.550676  "
      ]
     },
     "execution_count": 8,
     "metadata": {},
     "output_type": "execute_result"
    }
   ],
   "source": [
    "df.groupby(\"wet_prep\")[\"GP_Percent\"].describe()"
   ]
  },
  {
   "cell_type": "code",
   "execution_count": null,
   "id": "6eb818bd-caf1-42b0-b038-3055c847e6c3",
   "metadata": {},
   "outputs": [],
   "source": []
  }
 ],
 "metadata": {
  "kernelspec": {
   "display_name": "Python 3 (ipykernel)",
   "language": "python",
   "name": "python3"
  },
  "language_info": {
   "codemirror_mode": {
    "name": "ipython",
    "version": 3
   },
   "file_extension": ".py",
   "mimetype": "text/x-python",
   "name": "python",
   "nbconvert_exporter": "python",
   "pygments_lexer": "ipython3",
   "version": "3.11.5"
  }
 },
 "nbformat": 4,
 "nbformat_minor": 5
}
