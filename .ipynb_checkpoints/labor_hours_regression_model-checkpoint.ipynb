{
 "cells": [
  {
   "cell_type": "code",
   "execution_count": 1,
   "id": "adce51f2-0025-4162-bd2c-ba6f6c8e2ce2",
   "metadata": {},
   "outputs": [],
   "source": [
    "import pandas as pd\n",
    "import numpy as np"
   ]
  },
  {
   "cell_type": "code",
   "execution_count": 2,
   "id": "55173f42-80be-4adb-894a-ada4b5015b24",
   "metadata": {},
   "outputs": [],
   "source": [
    "df = pd.read_csv(\"labor_predictions_log.csv\")"
   ]
  },
  {
   "cell_type": "code",
   "execution_count": 3,
   "id": "943e1e52-62fb-48e1-ae5d-e178ab8e5cd7",
   "metadata": {},
   "outputs": [],
   "source": [
    "df_clean = df.dropna(subset=[\"Distance\", \"Labor_Hours\"])"
   ]
  },
  {
   "cell_type": "code",
   "execution_count": 4,
   "id": "d78286f1-f5c5-4474-8b77-fb29253f3e47",
   "metadata": {},
   "outputs": [
    {
     "data": {
      "text/html": [
       "<div>\n",
       "<style scoped>\n",
       "    .dataframe tbody tr th:only-of-type {\n",
       "        vertical-align: middle;\n",
       "    }\n",
       "\n",
       "    .dataframe tbody tr th {\n",
       "        vertical-align: top;\n",
       "    }\n",
       "\n",
       "    .dataframe thead th {\n",
       "        text-align: right;\n",
       "    }\n",
       "</style>\n",
       "<table border=\"1\" class=\"dataframe\">\n",
       "  <thead>\n",
       "    <tr style=\"text-align: right;\">\n",
       "      <th></th>\n",
       "      <th>Name</th>\n",
       "      <th>Size_sqft</th>\n",
       "      <th>Coats</th>\n",
       "      <th>Labor_Hours</th>\n",
       "      <th>Distance</th>\n",
       "      <th>Concurrent_Job</th>\n",
       "      <th>Synthetic</th>\n",
       "    </tr>\n",
       "  </thead>\n",
       "  <tbody>\n",
       "    <tr>\n",
       "      <th>count</th>\n",
       "      <td>31</td>\n",
       "      <td>31.000000</td>\n",
       "      <td>31.000000</td>\n",
       "      <td>31.000000</td>\n",
       "      <td>31.000000</td>\n",
       "      <td>31.000000</td>\n",
       "      <td>31.0</td>\n",
       "    </tr>\n",
       "    <tr>\n",
       "      <th>unique</th>\n",
       "      <td>31</td>\n",
       "      <td>NaN</td>\n",
       "      <td>NaN</td>\n",
       "      <td>NaN</td>\n",
       "      <td>NaN</td>\n",
       "      <td>NaN</td>\n",
       "      <td>NaN</td>\n",
       "    </tr>\n",
       "    <tr>\n",
       "      <th>top</th>\n",
       "      <td>Coppermine</td>\n",
       "      <td>NaN</td>\n",
       "      <td>NaN</td>\n",
       "      <td>NaN</td>\n",
       "      <td>NaN</td>\n",
       "      <td>NaN</td>\n",
       "      <td>NaN</td>\n",
       "    </tr>\n",
       "    <tr>\n",
       "      <th>freq</th>\n",
       "      <td>1</td>\n",
       "      <td>NaN</td>\n",
       "      <td>NaN</td>\n",
       "      <td>NaN</td>\n",
       "      <td>NaN</td>\n",
       "      <td>NaN</td>\n",
       "      <td>NaN</td>\n",
       "    </tr>\n",
       "    <tr>\n",
       "      <th>mean</th>\n",
       "      <td>NaN</td>\n",
       "      <td>8847.580645</td>\n",
       "      <td>1.774194</td>\n",
       "      <td>28.588710</td>\n",
       "      <td>47.274194</td>\n",
       "      <td>0.741935</td>\n",
       "      <td>0.0</td>\n",
       "    </tr>\n",
       "    <tr>\n",
       "      <th>std</th>\n",
       "      <td>NaN</td>\n",
       "      <td>2703.140307</td>\n",
       "      <td>0.425024</td>\n",
       "      <td>10.023836</td>\n",
       "      <td>29.478195</td>\n",
       "      <td>0.444803</td>\n",
       "      <td>0.0</td>\n",
       "    </tr>\n",
       "    <tr>\n",
       "      <th>min</th>\n",
       "      <td>NaN</td>\n",
       "      <td>6100.000000</td>\n",
       "      <td>1.000000</td>\n",
       "      <td>10.750000</td>\n",
       "      <td>13.000000</td>\n",
       "      <td>0.000000</td>\n",
       "      <td>0.0</td>\n",
       "    </tr>\n",
       "    <tr>\n",
       "      <th>25%</th>\n",
       "      <td>NaN</td>\n",
       "      <td>7090.000000</td>\n",
       "      <td>2.000000</td>\n",
       "      <td>22.750000</td>\n",
       "      <td>25.000000</td>\n",
       "      <td>0.500000</td>\n",
       "      <td>0.0</td>\n",
       "    </tr>\n",
       "    <tr>\n",
       "      <th>50%</th>\n",
       "      <td>NaN</td>\n",
       "      <td>7900.000000</td>\n",
       "      <td>2.000000</td>\n",
       "      <td>27.250000</td>\n",
       "      <td>36.000000</td>\n",
       "      <td>1.000000</td>\n",
       "      <td>0.0</td>\n",
       "    </tr>\n",
       "    <tr>\n",
       "      <th>75%</th>\n",
       "      <td>NaN</td>\n",
       "      <td>10100.000000</td>\n",
       "      <td>2.000000</td>\n",
       "      <td>34.250000</td>\n",
       "      <td>62.000000</td>\n",
       "      <td>1.000000</td>\n",
       "      <td>0.0</td>\n",
       "    </tr>\n",
       "    <tr>\n",
       "      <th>max</th>\n",
       "      <td>NaN</td>\n",
       "      <td>19250.000000</td>\n",
       "      <td>2.000000</td>\n",
       "      <td>57.000000</td>\n",
       "      <td>107.000000</td>\n",
       "      <td>1.000000</td>\n",
       "      <td>0.0</td>\n",
       "    </tr>\n",
       "  </tbody>\n",
       "</table>\n",
       "</div>"
      ],
      "text/plain": [
       "              Name     Size_sqft      Coats  Labor_Hours    Distance  \\\n",
       "count           31     31.000000  31.000000    31.000000   31.000000   \n",
       "unique          31           NaN        NaN          NaN         NaN   \n",
       "top     Coppermine           NaN        NaN          NaN         NaN   \n",
       "freq             1           NaN        NaN          NaN         NaN   \n",
       "mean           NaN   8847.580645   1.774194    28.588710   47.274194   \n",
       "std            NaN   2703.140307   0.425024    10.023836   29.478195   \n",
       "min            NaN   6100.000000   1.000000    10.750000   13.000000   \n",
       "25%            NaN   7090.000000   2.000000    22.750000   25.000000   \n",
       "50%            NaN   7900.000000   2.000000    27.250000   36.000000   \n",
       "75%            NaN  10100.000000   2.000000    34.250000   62.000000   \n",
       "max            NaN  19250.000000   2.000000    57.000000  107.000000   \n",
       "\n",
       "        Concurrent_Job  Synthetic  \n",
       "count        31.000000       31.0  \n",
       "unique             NaN        NaN  \n",
       "top                NaN        NaN  \n",
       "freq               NaN        NaN  \n",
       "mean          0.741935        0.0  \n",
       "std           0.444803        0.0  \n",
       "min           0.000000        0.0  \n",
       "25%           0.500000        0.0  \n",
       "50%           1.000000        0.0  \n",
       "75%           1.000000        0.0  \n",
       "max           1.000000        0.0  "
      ]
     },
     "execution_count": 4,
     "metadata": {},
     "output_type": "execute_result"
    }
   ],
   "source": [
    "df_clean.describe(include=\"all\")"
   ]
  },
  {
   "cell_type": "code",
   "execution_count": 5,
   "id": "63daee95-5531-4455-8a45-d5e48bf1e153",
   "metadata": {},
   "outputs": [
    {
     "data": {
      "text/html": [
       "<div>\n",
       "<style scoped>\n",
       "    .dataframe tbody tr th:only-of-type {\n",
       "        vertical-align: middle;\n",
       "    }\n",
       "\n",
       "    .dataframe tbody tr th {\n",
       "        vertical-align: top;\n",
       "    }\n",
       "\n",
       "    .dataframe thead th {\n",
       "        text-align: right;\n",
       "    }\n",
       "</style>\n",
       "<table border=\"1\" class=\"dataframe\">\n",
       "  <thead>\n",
       "    <tr style=\"text-align: right;\">\n",
       "      <th></th>\n",
       "      <th>Name</th>\n",
       "      <th>Size_sqft</th>\n",
       "      <th>Coats</th>\n",
       "      <th>Labor_Hours</th>\n",
       "      <th>Distance</th>\n",
       "      <th>Concurrent_Job</th>\n",
       "      <th>Synthetic</th>\n",
       "    </tr>\n",
       "  </thead>\n",
       "  <tbody>\n",
       "  </tbody>\n",
       "</table>\n",
       "</div>"
      ],
      "text/plain": [
       "Empty DataFrame\n",
       "Columns: [Name, Size_sqft, Coats, Labor_Hours, Distance, Concurrent_Job, Synthetic]\n",
       "Index: []"
      ]
     },
     "execution_count": 5,
     "metadata": {},
     "output_type": "execute_result"
    }
   ],
   "source": [
    "df_clean[df_clean[\"Distance\"] > 200]"
   ]
  },
  {
   "cell_type": "code",
   "execution_count": 6,
   "id": "74b2ff7a-3daa-4efa-81e6-3d5da66a7809",
   "metadata": {},
   "outputs": [
    {
     "data": {
      "text/html": [
       "<div>\n",
       "<style scoped>\n",
       "    .dataframe tbody tr th:only-of-type {\n",
       "        vertical-align: middle;\n",
       "    }\n",
       "\n",
       "    .dataframe tbody tr th {\n",
       "        vertical-align: top;\n",
       "    }\n",
       "\n",
       "    .dataframe thead th {\n",
       "        text-align: right;\n",
       "    }\n",
       "</style>\n",
       "<table border=\"1\" class=\"dataframe\">\n",
       "  <thead>\n",
       "    <tr style=\"text-align: right;\">\n",
       "      <th></th>\n",
       "      <th>count</th>\n",
       "      <th>mean</th>\n",
       "      <th>std</th>\n",
       "      <th>min</th>\n",
       "      <th>25%</th>\n",
       "      <th>50%</th>\n",
       "      <th>75%</th>\n",
       "      <th>max</th>\n",
       "    </tr>\n",
       "    <tr>\n",
       "      <th>Coats</th>\n",
       "      <th></th>\n",
       "      <th></th>\n",
       "      <th></th>\n",
       "      <th></th>\n",
       "      <th></th>\n",
       "      <th></th>\n",
       "      <th></th>\n",
       "      <th></th>\n",
       "    </tr>\n",
       "  </thead>\n",
       "  <tbody>\n",
       "    <tr>\n",
       "      <th>1.0</th>\n",
       "      <td>7.0</td>\n",
       "      <td>19.285714</td>\n",
       "      <td>7.025888</td>\n",
       "      <td>10.75</td>\n",
       "      <td>15.625</td>\n",
       "      <td>18.000</td>\n",
       "      <td>21.000</td>\n",
       "      <td>33.0</td>\n",
       "    </tr>\n",
       "    <tr>\n",
       "      <th>2.0</th>\n",
       "      <td>24.0</td>\n",
       "      <td>31.302083</td>\n",
       "      <td>9.173739</td>\n",
       "      <td>17.50</td>\n",
       "      <td>24.500</td>\n",
       "      <td>28.625</td>\n",
       "      <td>36.125</td>\n",
       "      <td>57.0</td>\n",
       "    </tr>\n",
       "  </tbody>\n",
       "</table>\n",
       "</div>"
      ],
      "text/plain": [
       "       count       mean       std    min     25%     50%     75%   max\n",
       "Coats                                                                 \n",
       "1.0      7.0  19.285714  7.025888  10.75  15.625  18.000  21.000  33.0\n",
       "2.0     24.0  31.302083  9.173739  17.50  24.500  28.625  36.125  57.0"
      ]
     },
     "execution_count": 6,
     "metadata": {},
     "output_type": "execute_result"
    }
   ],
   "source": [
    "df_clean.groupby(\"Coats\")[\"Labor_Hours\"].describe()"
   ]
  },
  {
   "cell_type": "code",
   "execution_count": 7,
   "id": "cffef38b-45c3-4fd1-9de9-b500d00a66d0",
   "metadata": {},
   "outputs": [
    {
     "data": {
      "text/html": [
       "<div>\n",
       "<style scoped>\n",
       "    .dataframe tbody tr th:only-of-type {\n",
       "        vertical-align: middle;\n",
       "    }\n",
       "\n",
       "    .dataframe tbody tr th {\n",
       "        vertical-align: top;\n",
       "    }\n",
       "\n",
       "    .dataframe thead th {\n",
       "        text-align: right;\n",
       "    }\n",
       "</style>\n",
       "<table border=\"1\" class=\"dataframe\">\n",
       "  <thead>\n",
       "    <tr style=\"text-align: right;\">\n",
       "      <th></th>\n",
       "      <th>count</th>\n",
       "      <th>mean</th>\n",
       "      <th>std</th>\n",
       "      <th>min</th>\n",
       "      <th>25%</th>\n",
       "      <th>50%</th>\n",
       "      <th>75%</th>\n",
       "      <th>max</th>\n",
       "    </tr>\n",
       "    <tr>\n",
       "      <th>Concurrent_Job</th>\n",
       "      <th></th>\n",
       "      <th></th>\n",
       "      <th></th>\n",
       "      <th></th>\n",
       "      <th></th>\n",
       "      <th></th>\n",
       "      <th></th>\n",
       "      <th></th>\n",
       "    </tr>\n",
       "  </thead>\n",
       "  <tbody>\n",
       "    <tr>\n",
       "      <th>0.0</th>\n",
       "      <td>8.0</td>\n",
       "      <td>28.375000</td>\n",
       "      <td>7.232121</td>\n",
       "      <td>16.25</td>\n",
       "      <td>25.25</td>\n",
       "      <td>28.375</td>\n",
       "      <td>34.50</td>\n",
       "      <td>36.5</td>\n",
       "    </tr>\n",
       "    <tr>\n",
       "      <th>1.0</th>\n",
       "      <td>23.0</td>\n",
       "      <td>28.663043</td>\n",
       "      <td>10.970417</td>\n",
       "      <td>10.75</td>\n",
       "      <td>22.75</td>\n",
       "      <td>26.500</td>\n",
       "      <td>33.75</td>\n",
       "      <td>57.0</td>\n",
       "    </tr>\n",
       "  </tbody>\n",
       "</table>\n",
       "</div>"
      ],
      "text/plain": [
       "                count       mean        std    min    25%     50%    75%   max\n",
       "Concurrent_Job                                                                \n",
       "0.0               8.0  28.375000   7.232121  16.25  25.25  28.375  34.50  36.5\n",
       "1.0              23.0  28.663043  10.970417  10.75  22.75  26.500  33.75  57.0"
      ]
     },
     "execution_count": 7,
     "metadata": {},
     "output_type": "execute_result"
    }
   ],
   "source": [
    "df_clean.groupby(\"Concurrent_Job\")[\"Labor_Hours\"].describe()"
   ]
  },
  {
   "cell_type": "code",
   "execution_count": 8,
   "id": "ca0c1a59-0fee-43d8-9265-fc42d314b962",
   "metadata": {},
   "outputs": [
    {
     "data": {
      "text/plain": [
       "array([ 13.,  25.,  36.,  62., 107.])"
      ]
     },
     "execution_count": 8,
     "metadata": {},
     "output_type": "execute_result"
    }
   ],
   "source": [
    "quartiles = df_clean[\"Distance\"].quantile([0, 0.25, 0.5, 0.75, 1.0]).values\n",
    "quartiles"
   ]
  },
  {
   "cell_type": "code",
   "execution_count": 9,
   "id": "9f08b3a4-7174-406b-a1d1-a65909aed322",
   "metadata": {},
   "outputs": [],
   "source": [
    "labels = [f\"{int(quartiles[i])}–{int(quartiles[i+1])}\" for i in range(len(quartiles)-1)]"
   ]
  },
  {
   "cell_type": "code",
   "execution_count": 10,
   "id": "c67cef4c-5794-4f86-a3b3-3ae55a48622f",
   "metadata": {},
   "outputs": [
    {
     "name": "stderr",
     "output_type": "stream",
     "text": [
      "C:\\Users\\mipo\\AppData\\Local\\Temp\\ipykernel_34748\\1888029933.py:1: SettingWithCopyWarning: \n",
      "A value is trying to be set on a copy of a slice from a DataFrame.\n",
      "Try using .loc[row_indexer,col_indexer] = value instead\n",
      "\n",
      "See the caveats in the documentation: https://pandas.pydata.org/pandas-docs/stable/user_guide/indexing.html#returning-a-view-versus-a-copy\n",
      "  df_clean[\"Distance_Bracket\"] = pd.cut(df_clean[\"Distance\"], bins=quartiles, labels=labels, include_lowest=True)\n"
     ]
    }
   ],
   "source": [
    "df_clean[\"Distance_Bracket\"] = pd.cut(df_clean[\"Distance\"], bins=quartiles, labels=labels, include_lowest=True)"
   ]
  },
  {
   "cell_type": "code",
   "execution_count": 11,
   "id": "720f0b8b-e283-449d-8c5a-2cef74c85fb5",
   "metadata": {},
   "outputs": [
    {
     "name": "stdout",
     "output_type": "stream",
     "text": [
      "Distance_Bracket\n",
      "13–25     23.055556\n",
      "25–36     26.833333\n",
      "36–62     30.000000\n",
      "62–107    35.906250\n",
      "Name: Labor_Hours, dtype: float64\n"
     ]
    },
    {
     "name": "stderr",
     "output_type": "stream",
     "text": [
      "C:\\Users\\mipo\\AppData\\Local\\Temp\\ipykernel_34748\\301263866.py:1: FutureWarning: The default of observed=False is deprecated and will be changed to True in a future version of pandas. Pass observed=False to retain current behavior or observed=True to adopt the future default and silence this warning.\n",
      "  labor_by_bracket = df_clean.groupby(\"Distance_Bracket\")[\"Labor_Hours\"].mean()\n"
     ]
    }
   ],
   "source": [
    "labor_by_bracket = df_clean.groupby(\"Distance_Bracket\")[\"Labor_Hours\"].mean()\n",
    "print(labor_by_bracket)"
   ]
  },
  {
   "cell_type": "code",
   "execution_count": 12,
   "id": "fa0a547c-b454-41b5-acc7-d0e4a6983b2f",
   "metadata": {},
   "outputs": [
    {
     "name": "stdout",
     "output_type": "stream",
     "text": [
      "Distance_Bracket      13–25      25–36    36–62    62–107\n",
      "Coats                                                    \n",
      "1.0               19.000000  20.583333  16.2500       NaN\n",
      "2.0               25.083333  29.958333  33.4375  35.90625\n"
     ]
    }
   ],
   "source": [
    "pivot = df_clean.pivot_table(values=\"Labor_Hours\",\n",
    "                       index=\"Coats\",\n",
    "                       columns=\"Distance_Bracket\",\n",
    "                       aggfunc=\"mean\")\n",
    "print(pivot)"
   ]
  },
  {
   "cell_type": "code",
   "execution_count": 13,
   "id": "079b12d7-e85d-469c-a0ab-7bc28bb3ba73",
   "metadata": {},
   "outputs": [
    {
     "data": {
      "image/png": "[encoded data removed]",
      "text/plain": [
       "<Figure size 572.125x500 with 1 Axes>"
      ]
     },
     "metadata": {},
     "output_type": "display_data"
    }
   ],
   "source": [
    "import matplotlib.pyplot as plt\n",
    "import seaborn as sns\n",
    "\n",
    "sns.lmplot(data=df_clean, x=\"Distance\", y=\"Labor_Hours\", hue=\"Coats\", markers=[\"o\", \"x\"])\n",
    "plt.title(\"Labor Hours vs Distance (stratified by Coats)\")\n",
    "plt.show()"
   ]
  },
  {
   "cell_type": "code",
   "execution_count": 14,
   "id": "86261762-16ab-4501-b664-e8ddbbec21f0",
   "metadata": {},
   "outputs": [
    {
     "data": {
      "text/html": [
       "<div>\n",
       "<style scoped>\n",
       "    .dataframe tbody tr th:only-of-type {\n",
       "        vertical-align: middle;\n",
       "    }\n",
       "\n",
       "    .dataframe tbody tr th {\n",
       "        vertical-align: top;\n",
       "    }\n",
       "\n",
       "    .dataframe thead th {\n",
       "        text-align: right;\n",
       "    }\n",
       "</style>\n",
       "<table border=\"1\" class=\"dataframe\">\n",
       "  <thead>\n",
       "    <tr style=\"text-align: right;\">\n",
       "      <th></th>\n",
       "      <th>count</th>\n",
       "      <th>mean</th>\n",
       "      <th>std</th>\n",
       "      <th>min</th>\n",
       "      <th>25%</th>\n",
       "      <th>50%</th>\n",
       "      <th>75%</th>\n",
       "      <th>max</th>\n",
       "    </tr>\n",
       "    <tr>\n",
       "      <th>Synthetic</th>\n",
       "      <th></th>\n",
       "      <th></th>\n",
       "      <th></th>\n",
       "      <th></th>\n",
       "      <th></th>\n",
       "      <th></th>\n",
       "      <th></th>\n",
       "      <th></th>\n",
       "    </tr>\n",
       "  </thead>\n",
       "  <tbody>\n",
       "    <tr>\n",
       "      <th>0.0</th>\n",
       "      <td>31.0</td>\n",
       "      <td>28.58871</td>\n",
       "      <td>10.023836</td>\n",
       "      <td>10.75</td>\n",
       "      <td>22.75</td>\n",
       "      <td>27.25</td>\n",
       "      <td>34.25</td>\n",
       "      <td>57.0</td>\n",
       "    </tr>\n",
       "  </tbody>\n",
       "</table>\n",
       "</div>"
      ],
      "text/plain": [
       "           count      mean        std    min    25%    50%    75%   max\n",
       "Synthetic                                                              \n",
       "0.0         31.0  28.58871  10.023836  10.75  22.75  27.25  34.25  57.0"
      ]
     },
     "execution_count": 14,
     "metadata": {},
     "output_type": "execute_result"
    }
   ],
   "source": [
    "df_clean.groupby(\"Synthetic\")[\"Labor_Hours\"].describe()"
   ]
  },
  {
   "cell_type": "code",
   "execution_count": 15,
   "id": "d6445f07-c4b7-4fe7-a45c-3d2eca63f4a3",
   "metadata": {},
   "outputs": [],
   "source": [
    "df_clean = df.dropna(subset=[\"Distance\", \"Labor_Hours\", \"Coats\", \"Concurrent_Job\"])"
   ]
  },
  {
   "cell_type": "code",
   "execution_count": 16,
   "id": "4970cc57-dcae-40a6-a563-67be3a86a2b6",
   "metadata": {},
   "outputs": [
    {
     "name": "stderr",
     "output_type": "stream",
     "text": [
      "C:\\Users\\mipo\\AppData\\Local\\Temp\\ipykernel_34748\\397517718.py:6: SettingWithCopyWarning: \n",
      "A value is trying to be set on a copy of a slice from a DataFrame.\n",
      "Try using .loc[row_indexer,col_indexer] = value instead\n",
      "\n",
      "See the caveats in the documentation: https://pandas.pydata.org/pandas-docs/stable/user_guide/indexing.html#returning-a-view-versus-a-copy\n",
      "  df_clean[\"Distance_Bracket\"] = pd.cut(df_clean[\"Distance\"], bins=quartiles, labels=labels, include_lowest=True)\n"
     ]
    }
   ],
   "source": [
    "# First compute quartiles and labels\n",
    "quartiles = df_clean[\"Distance\"].quantile([0, 0.25, 0.5, 0.75, 1.0]).values\n",
    "labels = [f\"{int(quartiles[i])}–{int(quartiles[i+1])}\" for i in range(len(quartiles)-1)]\n",
    "\n",
    "# Add bin column to df_clean\n",
    "df_clean[\"Distance_Bracket\"] = pd.cut(df_clean[\"Distance\"], bins=quartiles, labels=labels, include_lowest=True)\n",
    "\n",
    "# Now encode everything including the bracket\n",
    "df_encoded = pd.get_dummies(df_clean, columns=[\"Distance_Bracket\", \"Coats\", \"Concurrent_Job\", \"Name\"], drop_first=True)"
   ]
  },
  {
   "cell_type": "code",
   "execution_count": 17,
   "id": "56e37a46-fde1-4c52-8e2f-c4c7b02f3fe1",
   "metadata": {},
   "outputs": [],
   "source": [
    "X = df_encoded.drop(columns=[\"Labor_Hours\", \"Distance\"])\n",
    "y = df_encoded[\"Labor_Hours\"]"
   ]
  },
  {
   "cell_type": "code",
   "execution_count": 18,
   "id": "1a838ce3-c0ed-4363-8d4c-5802b84c595e",
   "metadata": {},
   "outputs": [
    {
     "data": {
      "text/html": [
       "<style>#sk-container-id-1 {color: black;background-color: white;}#sk-container-id-1 pre{padding: 0;}#sk-container-id-1 div.sk-toggleable {background-color: white;}#sk-container-id-1 label.sk-toggleable__label {cursor: pointer;display: block;width: 100%;margin-bottom: 0;padding: 0.3em;box-sizing: border-box;text-align: center;}#sk-container-id-1 label.sk-toggleable__label-arrow:before {content: \"▸\";float: left;margin-right: 0.25em;color: #696969;}#sk-container-id-1 label.sk-toggleable__label-arrow:hover:before {color: black;}#sk-container-id-1 div.sk-estimator:hover label.sk-toggleable__label-arrow:before {color: black;}#sk-container-id-1 div.sk-toggleable__content {max-height: 0;max-width: 0;overflow: hidden;text-align: left;background-color: #f0f8ff;}#sk-container-id-1 div.sk-toggleable__content pre {margin: 0.2em;color: black;border-radius: 0.25em;background-color: #f0f8ff;}#sk-container-id-1 input.sk-toggleable__control:checked~div.sk-toggleable__content {max-height: 200px;max-width: 100%;overflow: auto;}#sk-container-id-1 input.sk-toggleable__control:checked~label.sk-toggleable__label-arrow:before {content: \"▾\";}#sk-container-id-1 div.sk-estimator input.sk-toggleable__control:checked~label.sk-toggleable__label {background-color: #d4ebff;}#sk-container-id-1 div.sk-label input.sk-toggleable__control:checked~label.sk-toggleable__label {background-color: #d4ebff;}#sk-container-id-1 input.sk-hidden--visually {border: 0;clip: rect(1px 1px 1px 1px);clip: rect(1px, 1px, 1px, 1px);height: 1px;margin: -1px;overflow: hidden;padding: 0;position: absolute;width: 1px;}#sk-container-id-1 div.sk-estimator {font-family: monospace;background-color: #f0f8ff;border: 1px dotted black;border-radius: 0.25em;box-sizing: border-box;margin-bottom: 0.5em;}#sk-container-id-1 div.sk-estimator:hover {background-color: #d4ebff;}#sk-container-id-1 div.sk-parallel-item::after {content: \"\";width: 100%;border-bottom: 1px solid gray;flex-grow: 1;}#sk-container-id-1 div.sk-label:hover label.sk-toggleable__label {background-color: #d4ebff;}#sk-container-id-1 div.sk-serial::before {content: \"\";position: absolute;border-left: 1px solid gray;box-sizing: border-box;top: 0;bottom: 0;left: 50%;z-index: 0;}#sk-container-id-1 div.sk-serial {display: flex;flex-direction: column;align-items: center;background-color: white;padding-right: 0.2em;padding-left: 0.2em;position: relative;}#sk-container-id-1 div.sk-item {position: relative;z-index: 1;}#sk-container-id-1 div.sk-parallel {display: flex;align-items: stretch;justify-content: center;background-color: white;position: relative;}#sk-container-id-1 div.sk-item::before, #sk-container-id-1 div.sk-parallel-item::before {content: \"\";position: absolute;border-left: 1px solid gray;box-sizing: border-box;top: 0;bottom: 0;left: 50%;z-index: -1;}#sk-container-id-1 div.sk-parallel-item {display: flex;flex-direction: column;z-index: 1;position: relative;background-color: white;}#sk-container-id-1 div.sk-parallel-item:first-child::after {align-self: flex-end;width: 50%;}#sk-container-id-1 div.sk-parallel-item:last-child::after {align-self: flex-start;width: 50%;}#sk-container-id-1 div.sk-parallel-item:only-child::after {width: 0;}#sk-container-id-1 div.sk-dashed-wrapped {border: 1px dashed gray;margin: 0 0.4em 0.5em 0.4em;box-sizing: border-box;padding-bottom: 0.4em;background-color: white;}#sk-container-id-1 div.sk-label label {font-family: monospace;font-weight: bold;display: inline-block;line-height: 1.2em;}#sk-container-id-1 div.sk-label-container {text-align: center;}#sk-container-id-1 div.sk-container {/* jupyter's `normalize.less` sets `[hidden] { display: none; }` but bootstrap.min.css set `[hidden] { display: none !important; }` so we also need the `!important` here to be able to override the default hidden behavior on the sphinx rendered scikit-learn.org. See: https://github.com/scikit-learn/scikit-learn/issues/21755 */display: inline-block !important;position: relative;}#sk-container-id-1 div.sk-text-repr-fallback {display: none;}</style><div id=\"sk-container-id-1\" class=\"sk-top-container\"><div class=\"sk-text-repr-fallback\"><pre>LinearRegression()</pre><b>In a Jupyter environment, please rerun this cell to show the HTML representation or trust the notebook. <br />On GitHub, the HTML representation is unable to render, please try loading this page with nbviewer.org.</b></div><div class=\"sk-container\" hidden><div class=\"sk-item\"><div class=\"sk-estimator sk-toggleable\"><input class=\"sk-toggleable__control sk-hidden--visually\" id=\"sk-estimator-id-1\" type=\"checkbox\" checked><label for=\"sk-estimator-id-1\" class=\"sk-toggleable__label sk-toggleable__label-arrow\">LinearRegression</label><div class=\"sk-toggleable__content\"><pre>LinearRegression()</pre></div></div></div></div></div>"
      ],
      "text/plain": [
       "LinearRegression()"
      ]
     },
     "execution_count": 18,
     "metadata": {},
     "output_type": "execute_result"
    }
   ],
   "source": [
    "from sklearn.linear_model import LinearRegression\n",
    "\n",
    "model = LinearRegression()\n",
    "model.fit(X, y)"
   ]
  },
  {
   "cell_type": "code",
   "execution_count": 19,
   "id": "f7dccdba-22fb-4e5c-9b42-aef92b46a44b",
   "metadata": {},
   "outputs": [
    {
     "name": "stdout",
     "output_type": "stream",
     "text": [
      "R²: 1.0\n",
      "MAE: 2.337914807984846e-14\n"
     ]
    }
   ],
   "source": [
    "from sklearn.metrics import r2_score, mean_absolute_error\n",
    "\n",
    "predictions = model.predict(X)\n",
    "print(\"R²:\", r2_score(y, predictions))\n",
    "print(\"MAE:\", mean_absolute_error(y, predictions))"
   ]
  },
  {
   "cell_type": "code",
   "execution_count": null,
   "id": "8067510e-6eae-4e35-b01e-db5f66d870ac",
   "metadata": {},
   "outputs": [],
   "source": []
  }
 ],
 "metadata": {
  "kernelspec": {
   "display_name": "Python 3 (ipykernel)",
   "language": "python",
   "name": "python3"
  },
  "language_info": {
   "codemirror_mode": {
    "name": "ipython",
    "version": 3
   },
   "file_extension": ".py",
   "mimetype": "text/x-python",
   "name": "python",
   "nbconvert_exporter": "python",
   "pygments_lexer": "ipython3",
   "version": "3.11.5"
  }
 },
 "nbformat": 4,
 "nbformat_minor": 5
}
