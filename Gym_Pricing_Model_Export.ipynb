{
 "cells": [
  {
   "cell_type": "code",
   "execution_count": 1,
   "id": "801bb8c2-a46b-4948-a9f7-0a8d1d247154",
   "metadata": {},
   "outputs": [
    {
     "name": "stdout",
     "output_type": "stream",
     "text": [
      "Collecting streamlit\n",
      "  Downloading streamlit-1.46.1-py3-none-any.whl.metadata (9.0 kB)\n",
      "Collecting altair<6,>=4.0 (from streamlit)\n",
      "  Downloading altair-5.5.0-py3-none-any.whl.metadata (11 kB)\n",
      "Collecting blinker<2,>=1.5.0 (from streamlit)\n",
      "  Downloading blinker-1.9.0-py3-none-any.whl.metadata (1.6 kB)\n",
      "Collecting cachetools<7,>=4.0 (from streamlit)\n",
      "  Downloading cachetools-6.1.0-py3-none-any.whl.metadata (5.4 kB)\n",
      "Requirement already satisfied: click<9,>=7.0 in c:\\users\\mipo\\appdata\\local\\anaconda3\\lib\\site-packages (from streamlit) (8.1.7)\n",
      "Requirement already satisfied: numpy<3,>=1.23 in c:\\users\\mipo\\appdata\\local\\anaconda3\\lib\\site-packages (from streamlit) (1.26.4)\n",
      "Requirement already satisfied: packaging<26,>=20 in c:\\users\\mipo\\appdata\\local\\anaconda3\\lib\\site-packages (from streamlit) (23.2)\n",
      "Requirement already satisfied: pandas<3,>=1.4.0 in c:\\users\\mipo\\appdata\\local\\anaconda3\\lib\\site-packages (from streamlit) (2.1.4)\n",
      "Requirement already satisfied: pillow<12,>=7.1.0 in c:\\users\\mipo\\appdata\\local\\anaconda3\\lib\\site-packages (from streamlit) (10.2.0)\n",
      "Collecting protobuf<7,>=3.20 (from streamlit)\n",
      "  Downloading protobuf-6.31.1-cp310-abi3-win_amd64.whl.metadata (593 bytes)\n",
      "Requirement already satisfied: pyarrow>=7.0 in c:\\users\\mipo\\appdata\\local\\anaconda3\\lib\\site-packages (from streamlit) (14.0.2)\n",
      "Requirement already satisfied: requests<3,>=2.27 in c:\\users\\mipo\\appdata\\local\\anaconda3\\lib\\site-packages (from streamlit) (2.31.0)\n",
      "Requirement already satisfied: tenacity<10,>=8.1.0 in c:\\users\\mipo\\appdata\\local\\anaconda3\\lib\\site-packages (from streamlit) (8.2.2)\n",
      "Collecting toml<2,>=0.10.1 (from streamlit)\n",
      "  Downloading toml-0.10.2-py2.py3-none-any.whl.metadata (7.1 kB)\n",
      "Requirement already satisfied: typing-extensions<5,>=4.4.0 in c:\\users\\mipo\\appdata\\local\\anaconda3\\lib\\site-packages (from streamlit) (4.9.0)\n",
      "Requirement already satisfied: watchdog<7,>=2.1.5 in c:\\users\\mipo\\appdata\\local\\anaconda3\\lib\\site-packages (from streamlit) (2.1.6)\n",
      "Collecting gitpython!=3.1.19,<4,>=3.0.7 (from streamlit)\n",
      "  Downloading GitPython-3.1.44-py3-none-any.whl.metadata (13 kB)\n",
      "Collecting pydeck<1,>=0.8.0b4 (from streamlit)\n",
      "  Downloading pydeck-0.9.1-py2.py3-none-any.whl.metadata (4.1 kB)\n",
      "Requirement already satisfied: tornado!=6.5.0,<7,>=6.0.3 in c:\\users\\mipo\\appdata\\local\\anaconda3\\lib\\site-packages (from streamlit) (6.3.3)\n",
      "Requirement already satisfied: jinja2 in c:\\users\\mipo\\appdata\\local\\anaconda3\\lib\\site-packages (from altair<6,>=4.0->streamlit) (3.1.3)\n",
      "Requirement already satisfied: jsonschema>=3.0 in c:\\users\\mipo\\appdata\\local\\anaconda3\\lib\\site-packages (from altair<6,>=4.0->streamlit) (4.19.2)\n",
      "Collecting narwhals>=1.14.2 (from altair<6,>=4.0->streamlit)\n",
      "  Downloading narwhals-1.46.0-py3-none-any.whl.metadata (11 kB)\n",
      "Collecting typing-extensions<5,>=4.4.0 (from streamlit)\n",
      "  Downloading typing_extensions-4.14.1-py3-none-any.whl.metadata (3.0 kB)\n",
      "Requirement already satisfied: colorama in c:\\users\\mipo\\appdata\\local\\anaconda3\\lib\\site-packages (from click<9,>=7.0->streamlit) (0.4.6)\n",
      "Collecting gitdb<5,>=4.0.1 (from gitpython!=3.1.19,<4,>=3.0.7->streamlit)\n",
      "  Downloading gitdb-4.0.12-py3-none-any.whl.metadata (1.2 kB)\n",
      "Requirement already satisfied: python-dateutil>=2.8.2 in c:\\users\\mipo\\appdata\\local\\anaconda3\\lib\\site-packages (from pandas<3,>=1.4.0->streamlit) (2.8.2)\n",
      "Requirement already satisfied: pytz>=2020.1 in c:\\users\\mipo\\appdata\\local\\anaconda3\\lib\\site-packages (from pandas<3,>=1.4.0->streamlit) (2023.3.post1)\n",
      "Requirement already satisfied: tzdata>=2022.1 in c:\\users\\mipo\\appdata\\local\\anaconda3\\lib\\site-packages (from pandas<3,>=1.4.0->streamlit) (2023.3)\n",
      "Requirement already satisfied: charset-normalizer<4,>=2 in c:\\users\\mipo\\appdata\\local\\anaconda3\\lib\\site-packages (from requests<3,>=2.27->streamlit) (2.0.4)\n",
      "Requirement already satisfied: idna<4,>=2.5 in c:\\users\\mipo\\appdata\\local\\anaconda3\\lib\\site-packages (from requests<3,>=2.27->streamlit) (3.4)\n",
      "Requirement already satisfied: urllib3<3,>=1.21.1 in c:\\users\\mipo\\appdata\\local\\anaconda3\\lib\\site-packages (from requests<3,>=2.27->streamlit) (2.0.7)\n",
      "Requirement already satisfied: certifi>=2017.4.17 in c:\\users\\mipo\\appdata\\local\\anaconda3\\lib\\site-packages (from requests<3,>=2.27->streamlit) (2024.2.2)\n",
      "Collecting smmap<6,>=3.0.1 (from gitdb<5,>=4.0.1->gitpython!=3.1.19,<4,>=3.0.7->streamlit)\n",
      "  Downloading smmap-5.0.2-py3-none-any.whl.metadata (4.3 kB)\n",
      "Requirement already satisfied: MarkupSafe>=2.0 in c:\\users\\mipo\\appdata\\local\\anaconda3\\lib\\site-packages (from jinja2->altair<6,>=4.0->streamlit) (2.1.3)\n",
      "Requirement already satisfied: attrs>=22.2.0 in c:\\users\\mipo\\appdata\\local\\anaconda3\\lib\\site-packages (from jsonschema>=3.0->altair<6,>=4.0->streamlit) (23.1.0)\n",
      "Requirement already satisfied: jsonschema-specifications>=2023.03.6 in c:\\users\\mipo\\appdata\\local\\anaconda3\\lib\\site-packages (from jsonschema>=3.0->altair<6,>=4.0->streamlit) (2023.7.1)\n",
      "Requirement already satisfied: referencing>=0.28.4 in c:\\users\\mipo\\appdata\\local\\anaconda3\\lib\\site-packages (from jsonschema>=3.0->altair<6,>=4.0->streamlit) (0.30.2)\n",
      "Requirement already satisfied: rpds-py>=0.7.1 in c:\\users\\mipo\\appdata\\local\\anaconda3\\lib\\site-packages (from jsonschema>=3.0->altair<6,>=4.0->streamlit) (0.10.6)\n",
      "Requirement already satisfied: six>=1.5 in c:\\users\\mipo\\appdata\\local\\anaconda3\\lib\\site-packages (from python-dateutil>=2.8.2->pandas<3,>=1.4.0->streamlit) (1.16.0)\n",
      "Downloading streamlit-1.46.1-py3-none-any.whl (10.1 MB)\n",
      "   ---------------------------------------- 0.0/10.1 MB ? eta -:--:--\n",
      "   ---------------------------------------- 0.0/10.1 MB 1.3 MB/s eta 0:00:08\n",
      "   ---------------------------------------- 0.1/10.1 MB 1.6 MB/s eta 0:00:07\n",
      "   - -------------------------------------- 0.4/10.1 MB 3.2 MB/s eta 0:00:04\n",
      "   --- ------------------------------------ 0.8/10.1 MB 5.3 MB/s eta 0:00:02\n",
      "   ----- ---------------------------------- 1.5/10.1 MB 7.2 MB/s eta 0:00:02\n",
      "   -------- ------------------------------- 2.3/10.1 MB 9.0 MB/s eta 0:00:01\n",
      "   --------- ------------------------------ 2.5/10.1 MB 9.3 MB/s eta 0:00:01\n",
      "   --------- ------------------------------ 2.5/10.1 MB 9.3 MB/s eta 0:00:01\n",
      "   -------------- ------------------------- 3.8/10.1 MB 9.6 MB/s eta 0:00:01\n",
      "   -------------------- ------------------- 5.1/10.1 MB 11.5 MB/s eta 0:00:01\n",
      "   ---------------------- ----------------- 5.6/10.1 MB 11.9 MB/s eta 0:00:01\n",
      "   ---------------------- ----------------- 5.6/10.1 MB 11.9 MB/s eta 0:00:01\n",
      "   ----------------------- ---------------- 5.8/10.1 MB 10.3 MB/s eta 0:00:01\n",
      "   ----------------------- ---------------- 5.9/10.1 MB 10.2 MB/s eta 0:00:01\n",
      "   ---------------------------- ----------- 7.1/10.1 MB 10.6 MB/s eta 0:00:01\n",
      "   ---------------------------- ----------- 7.2/10.1 MB 10.0 MB/s eta 0:00:01\n",
      "   -------------------------------- ------- 8.1/10.1 MB 10.5 MB/s eta 0:00:01\n",
      "   ---------------------------------------  9.8/10.1 MB 12.1 MB/s eta 0:00:01\n",
      "   ---------------------------------------  10.0/10.1 MB 11.9 MB/s eta 0:00:01\n",
      "   ---------------------------------------- 10.1/10.1 MB 11.3 MB/s eta 0:00:00\n",
      "Downloading altair-5.5.0-py3-none-any.whl (731 kB)\n",
      "   ---------------------------------------- 0.0/731.2 kB ? eta -:--:--\n",
      "   ---------------------------- ---------- 532.5/731.2 kB 16.8 MB/s eta 0:00:01\n",
      "   ---------------------------------------- 731.2/731.2 kB 9.2 MB/s eta 0:00:00\n",
      "Downloading blinker-1.9.0-py3-none-any.whl (8.5 kB)\n",
      "Downloading cachetools-6.1.0-py3-none-any.whl (11 kB)\n",
      "Downloading GitPython-3.1.44-py3-none-any.whl (207 kB)\n",
      "   ---------------------------------------- 0.0/207.6 kB ? eta -:--:--\n",
      "   --------------------------------------- 207.6/207.6 kB 12.3 MB/s eta 0:00:00\n",
      "Downloading protobuf-6.31.1-cp310-abi3-win_amd64.whl (435 kB)\n",
      "   ---------------------------------------- 0.0/435.3 kB ? eta -:--:--\n",
      "   --------------------------------------- 435.3/435.3 kB 13.7 MB/s eta 0:00:00\n",
      "Downloading pydeck-0.9.1-py2.py3-none-any.whl (6.9 MB)\n",
      "   ---------------------------------------- 0.0/6.9 MB ? eta -:--:--\n",
      "   --- ------------------------------------ 0.6/6.9 MB 13.5 MB/s eta 0:00:01\n",
      "   ------- -------------------------------- 1.3/6.9 MB 14.1 MB/s eta 0:00:01\n",
      "   ----------- ---------------------------- 2.0/6.9 MB 14.4 MB/s eta 0:00:01\n",
      "   --------------- ------------------------ 2.7/6.9 MB 14.4 MB/s eta 0:00:01\n",
      "   ------------------- -------------------- 3.4/6.9 MB 14.4 MB/s eta 0:00:01\n",
      "   ----------------------- ---------------- 4.1/6.9 MB 15.4 MB/s eta 0:00:01\n",
      "   --------------------------- ------------ 4.8/6.9 MB 14.6 MB/s eta 0:00:01\n",
      "   -------------------------------- ------- 5.6/6.9 MB 14.8 MB/s eta 0:00:01\n",
      "   ------------------------------------ --- 6.2/6.9 MB 14.8 MB/s eta 0:00:01\n",
      "   ---------------------------------------  6.9/6.9 MB 15.2 MB/s eta 0:00:01\n",
      "   ---------------------------------------- 6.9/6.9 MB 14.7 MB/s eta 0:00:00\n",
      "Downloading toml-0.10.2-py2.py3-none-any.whl (16 kB)\n",
      "Downloading typing_extensions-4.14.1-py3-none-any.whl (43 kB)\n",
      "   ---------------------------------------- 0.0/43.9 kB ? eta -:--:--\n",
      "   ---------------------------------------- 43.9/43.9 kB 2.1 MB/s eta 0:00:00\n",
      "Downloading gitdb-4.0.12-py3-none-any.whl (62 kB)\n",
      "   ---------------------------------------- 0.0/62.8 kB ? eta -:--:--\n",
      "   ---------------------------------------- 62.8/62.8 kB 3.5 MB/s eta 0:00:00\n",
      "Downloading narwhals-1.46.0-py3-none-any.whl (373 kB)\n",
      "   ---------------------------------------- 0.0/373.4 kB ? eta -:--:--\n",
      "   --------------------------------------- 373.4/373.4 kB 11.7 MB/s eta 0:00:00\n",
      "Downloading smmap-5.0.2-py3-none-any.whl (24 kB)\n",
      "Installing collected packages: typing-extensions, toml, smmap, protobuf, narwhals, cachetools, blinker, pydeck, gitdb, gitpython, altair, streamlit\n",
      "  Attempting uninstall: typing-extensions\n",
      "    Found existing installation: typing_extensions 4.9.0\n",
      "    Uninstalling typing_extensions-4.9.0:\n",
      "      Successfully uninstalled typing_extensions-4.9.0\n",
      "Successfully installed altair-5.5.0 blinker-1.9.0 cachetools-6.1.0 gitdb-4.0.12 gitpython-3.1.44 narwhals-1.46.0 protobuf-6.31.1 pydeck-0.9.1 smmap-5.0.2 streamlit-1.46.1 toml-0.10.2 typing-extensions-4.14.1\n",
      "Requirement already satisfied: joblib in c:\\users\\mipo\\appdata\\local\\anaconda3\\lib\\site-packages (1.2.0)\n"
     ]
    }
   ],
   "source": [
    "!pip install streamlit\n",
    "!pip install joblib"
   ]
  },
  {
   "cell_type": "code",
   "execution_count": 2,
   "id": "2b4445a1-b6bb-42f7-9750-a41debffce8b",
   "metadata": {},
   "outputs": [],
   "source": [
    "import streamlit as st\n",
    "import pandas as pd\n",
    "import numpy as np\n",
    "import joblib\n",
    "from sklearn.ensemble import RandomForestRegressor"
   ]
  },
  {
   "cell_type": "code",
   "execution_count": 4,
   "id": "85d80694-1b84-4b6d-af8a-2663e8922f48",
   "metadata": {},
   "outputs": [],
   "source": [
    "# Load the trained model and label encoder (ensure these are saved previously)\n",
    "model = joblib.load(\"model_rf.pkl\")\n",
    "label_enc = joblib.load(\"label_encoder.pkl\")\n",
    "X_columns = joblib.load(\"X_columns.pkl\")  # list of columns used during training"
   ]
  },
  {
   "cell_type": "code",
   "execution_count": 5,
   "id": "a9178bdb-c691-4357-ad97-5352182314f7",
   "metadata": {},
   "outputs": [
    {
     "name": "stderr",
     "output_type": "stream",
     "text": [
      "2025-07-09 16:16:37.582 WARNING streamlit.runtime.scriptrunner_utils.script_run_context: Thread 'MainThread': missing ScriptRunContext! This warning can be ignored when running in bare mode.\n",
      "2025-07-09 16:16:37.772 \n",
      "  \u001b[33m\u001b[1mWarning:\u001b[0m to view this Streamlit app on a browser, run it with the following\n",
      "  command:\n",
      "\n",
      "    streamlit run C:\\Users\\mipo\\AppData\\Local\\anaconda3\\Lib\\site-packages\\ipykernel_launcher.py [ARGUMENTS]\n",
      "2025-07-09 16:16:37.772 Thread 'MainThread': missing ScriptRunContext! This warning can be ignored when running in bare mode.\n",
      "2025-07-09 16:16:37.773 Thread 'MainThread': missing ScriptRunContext! This warning can be ignored when running in bare mode.\n",
      "2025-07-09 16:16:37.774 Thread 'MainThread': missing ScriptRunContext! This warning can be ignored when running in bare mode.\n",
      "2025-07-09 16:16:37.775 Thread 'MainThread': missing ScriptRunContext! This warning can be ignored when running in bare mode.\n",
      "2025-07-09 16:16:37.775 Thread 'MainThread': missing ScriptRunContext! This warning can be ignored when running in bare mode.\n"
     ]
    },
    {
     "data": {
      "text/plain": [
       "DeltaGenerator()"
      ]
     },
     "execution_count": 5,
     "metadata": {},
     "output_type": "execute_result"
    }
   ],
   "source": [
    "# Title\n",
    "st.title(\"Gym Floor Pricing Simulator\")\n",
    "st.markdown(\"Aim: Recommend optimal $/sqft to achieve 45% GP or higher\")"
   ]
  },
  {
   "cell_type": "code",
   "execution_count": 6,
   "id": "0addc67a-6573-456f-b854-b1e36f76d976",
   "metadata": {},
   "outputs": [
    {
     "name": "stderr",
     "output_type": "stream",
     "text": [
      "2025-07-09 16:16:39.320 Thread 'MainThread': missing ScriptRunContext! This warning can be ignored when running in bare mode.\n",
      "2025-07-09 16:16:39.320 Thread 'MainThread': missing ScriptRunContext! This warning can be ignored when running in bare mode.\n",
      "2025-07-09 16:16:39.321 Thread 'MainThread': missing ScriptRunContext! This warning can be ignored when running in bare mode.\n",
      "2025-07-09 16:16:39.323 Thread 'MainThread': missing ScriptRunContext! This warning can be ignored when running in bare mode.\n",
      "2025-07-09 16:16:39.324 Session state does not function when running a script without `streamlit run`\n",
      "2025-07-09 16:16:39.325 Thread 'MainThread': missing ScriptRunContext! This warning can be ignored when running in bare mode.\n",
      "2025-07-09 16:16:39.327 Thread 'MainThread': missing ScriptRunContext! This warning can be ignored when running in bare mode.\n",
      "2025-07-09 16:16:39.328 Thread 'MainThread': missing ScriptRunContext! This warning can be ignored when running in bare mode.\n",
      "2025-07-09 16:16:39.328 Thread 'MainThread': missing ScriptRunContext! This warning can be ignored when running in bare mode.\n",
      "2025-07-09 16:16:39.330 Thread 'MainThread': missing ScriptRunContext! This warning can be ignored when running in bare mode.\n",
      "2025-07-09 16:16:39.331 Thread 'MainThread': missing ScriptRunContext! This warning can be ignored when running in bare mode.\n",
      "2025-07-09 16:16:39.332 Thread 'MainThread': missing ScriptRunContext! This warning can be ignored when running in bare mode.\n",
      "2025-07-09 16:16:39.333 Thread 'MainThread': missing ScriptRunContext! This warning can be ignored when running in bare mode.\n",
      "2025-07-09 16:16:39.334 Thread 'MainThread': missing ScriptRunContext! This warning can be ignored when running in bare mode.\n",
      "2025-07-09 16:16:39.334 Thread 'MainThread': missing ScriptRunContext! This warning can be ignored when running in bare mode.\n",
      "2025-07-09 16:16:39.335 Thread 'MainThread': missing ScriptRunContext! This warning can be ignored when running in bare mode.\n",
      "2025-07-09 16:16:39.336 Thread 'MainThread': missing ScriptRunContext! This warning can be ignored when running in bare mode.\n",
      "2025-07-09 16:16:39.336 Thread 'MainThread': missing ScriptRunContext! This warning can be ignored when running in bare mode.\n",
      "2025-07-09 16:16:39.337 Thread 'MainThread': missing ScriptRunContext! This warning can be ignored when running in bare mode.\n",
      "2025-07-09 16:16:39.338 Thread 'MainThread': missing ScriptRunContext! This warning can be ignored when running in bare mode.\n",
      "2025-07-09 16:16:39.338 Thread 'MainThread': missing ScriptRunContext! This warning can be ignored when running in bare mode.\n",
      "2025-07-09 16:16:39.340 Thread 'MainThread': missing ScriptRunContext! This warning can be ignored when running in bare mode.\n",
      "2025-07-09 16:16:39.340 Thread 'MainThread': missing ScriptRunContext! This warning can be ignored when running in bare mode.\n",
      "2025-07-09 16:16:39.341 Thread 'MainThread': missing ScriptRunContext! This warning can be ignored when running in bare mode.\n",
      "2025-07-09 16:16:39.343 Thread 'MainThread': missing ScriptRunContext! This warning can be ignored when running in bare mode.\n",
      "2025-07-09 16:16:39.344 Thread 'MainThread': missing ScriptRunContext! This warning can be ignored when running in bare mode.\n",
      "2025-07-09 16:16:39.344 Thread 'MainThread': missing ScriptRunContext! This warning can be ignored when running in bare mode.\n",
      "2025-07-09 16:16:39.345 Thread 'MainThread': missing ScriptRunContext! This warning can be ignored when running in bare mode.\n",
      "2025-07-09 16:16:39.345 Thread 'MainThread': missing ScriptRunContext! This warning can be ignored when running in bare mode.\n",
      "2025-07-09 16:16:39.346 Thread 'MainThread': missing ScriptRunContext! This warning can be ignored when running in bare mode.\n",
      "2025-07-09 16:16:39.347 Thread 'MainThread': missing ScriptRunContext! This warning can be ignored when running in bare mode.\n",
      "2025-07-09 16:16:39.348 Thread 'MainThread': missing ScriptRunContext! This warning can be ignored when running in bare mode.\n",
      "2025-07-09 16:16:39.349 Thread 'MainThread': missing ScriptRunContext! This warning can be ignored when running in bare mode.\n",
      "2025-07-09 16:16:39.350 Thread 'MainThread': missing ScriptRunContext! This warning can be ignored when running in bare mode.\n",
      "2025-07-09 16:16:39.350 Thread 'MainThread': missing ScriptRunContext! This warning can be ignored when running in bare mode.\n",
      "2025-07-09 16:16:39.351 Thread 'MainThread': missing ScriptRunContext! This warning can be ignored when running in bare mode.\n",
      "2025-07-09 16:16:39.353 Thread 'MainThread': missing ScriptRunContext! This warning can be ignored when running in bare mode.\n",
      "2025-07-09 16:16:39.353 Thread 'MainThread': missing ScriptRunContext! This warning can be ignored when running in bare mode.\n",
      "2025-07-09 16:16:39.355 Thread 'MainThread': missing ScriptRunContext! This warning can be ignored when running in bare mode.\n",
      "2025-07-09 16:16:39.356 Thread 'MainThread': missing ScriptRunContext! This warning can be ignored when running in bare mode.\n",
      "2025-07-09 16:16:39.356 Thread 'MainThread': missing ScriptRunContext! This warning can be ignored when running in bare mode.\n",
      "2025-07-09 16:16:39.357 Thread 'MainThread': missing ScriptRunContext! This warning can be ignored when running in bare mode.\n",
      "2025-07-09 16:16:39.358 Thread 'MainThread': missing ScriptRunContext! This warning can be ignored when running in bare mode.\n"
     ]
    }
   ],
   "source": [
    "# User inputs\n",
    "size_sqft = st.number_input(\"Job Size (sqft)\", min_value=1000, max_value=30000, value=6000, step=100)\n",
    "coats = st.selectbox(\"Number of Coats\", [1, 2])\n",
    "distance = st.number_input(\"Distance to Job (miles)\", min_value=0, max_value=500, value=25)\n",
    "labor_hours = st.number_input(\"Estimated Labor Hours\", min_value=1.0, max_value=100.0, value=16.0, step=0.25)\n",
    "am_name = st.selectbox(\"Account Manager\", sorted(label_enc.classes_.tolist()))\n",
    "concurrent_job = st.selectbox(\"Concurrent Job?\", [\"Yes\", \"No\"])"
   ]
  },
  {
   "cell_type": "code",
   "execution_count": 7,
   "id": "77ffff94-a6d0-4e93-89e0-9651127aeaa0",
   "metadata": {},
   "outputs": [],
   "source": [
    "# Convert inputs to model format\n",
    "am_encoded = label_enc.transform([am_name])[0]\n",
    "concurrent_flag = 1 if concurrent_job == \"Yes\" else 0\n",
    "\n",
    "input_data = {\n",
    "    'Size_sqft': size_sqft,\n",
    "    'Coats': coats,\n",
    "    'Distance': distance,\n",
    "    'Labor_Hours': labor_hours,\n",
    "    'AM': am_encoded,\n",
    "    'Concurrent_Job': concurrent_flag\n",
    "}"
   ]
  },
  {
   "cell_type": "code",
   "execution_count": 8,
   "id": "f4daeb5a-747a-4ef7-8954-00e216d7c9ea",
   "metadata": {},
   "outputs": [],
   "source": [
    "# Prediction function\n",
    "def get_best_price_per_sqft(job_input, model, X_columns, target_gp=0.45):\n",
    "    base_features = pd.DataFrame([job_input])\n",
    "    sqft = job_input['Size_sqft']\n",
    "    sqft_prices = np.arange(0.40, 1.20, 0.01)\n",
    "    results = []\n",
    "\n",
    "    for price_per_sqft in sqft_prices:\n",
    "        total_quote = round(price_per_sqft * sqft, 2)\n",
    "        test_row = base_features.copy()\n",
    "        test_row['Quoted_Price'] = total_quote\n",
    "        test_row = test_row.reindex(columns=X_columns, fill_value=0)\n",
    "        predicted_gp = model.predict(test_row)[0]\n",
    "        results.append((price_per_sqft, predicted_gp))\n",
    "\n",
    "    for price_per_sqft, gp in results:\n",
    "        if gp >= target_gp:\n",
    "            return {\n",
    "                'recommended_price_per_sqft': round(price_per_sqft, 2),\n",
    "                'total_price': round(price_per_sqft * sqft, 2),\n",
    "                'predicted_gp': round(gp, 4)\n",
    "            }\n",
    "\n",
    "    return {\n",
    "        'recommended_price_per_sqft': None,\n",
    "        'total_price': None,\n",
    "        'predicted_gp': None\n",
    "    }"
   ]
  },
  {
   "cell_type": "code",
   "execution_count": 9,
   "id": "62c22da5-363e-4b6c-8cd3-e6d195819f72",
   "metadata": {},
   "outputs": [
    {
     "name": "stderr",
     "output_type": "stream",
     "text": [
      "2025-07-09 16:16:45.519 Thread 'MainThread': missing ScriptRunContext! This warning can be ignored when running in bare mode.\n",
      "2025-07-09 16:16:45.520 Thread 'MainThread': missing ScriptRunContext! This warning can be ignored when running in bare mode.\n",
      "2025-07-09 16:16:45.521 Thread 'MainThread': missing ScriptRunContext! This warning can be ignored when running in bare mode.\n",
      "2025-07-09 16:16:45.522 Thread 'MainThread': missing ScriptRunContext! This warning can be ignored when running in bare mode.\n",
      "2025-07-09 16:16:45.523 Thread 'MainThread': missing ScriptRunContext! This warning can be ignored when running in bare mode.\n",
      "2025-07-09 16:16:45.524 Thread 'MainThread': missing ScriptRunContext! This warning can be ignored when running in bare mode.\n"
     ]
    }
   ],
   "source": [
    "# Run simulation\n",
    "if st.button(\"Recommend Price\"):\n",
    "    result = get_best_price_per_sqft(input_data, model, X_columns)\n",
    "    if result['recommended_price_per_sqft'] is not None:\n",
    "        st.success(f\"✅ Recommended Price: ${result['total_price']:,} ({result['recommended_price_per_sqft']}/sqft)\")\n",
    "        st.write(f\"Predicted GP%: {result['predicted_gp']*100:.2f}%\")\n",
    "    else:\n",
    "        st.error(\"❌ No quote in range meets 45% GP target. Consider increasing efficiency or base pricing.\")"
   ]
  },
  {
   "cell_type": "code",
   "execution_count": null,
   "id": "9c9fc79e-5e34-40e8-8793-d5420c3f1ce3",
   "metadata": {},
   "outputs": [],
   "source": []
  }
 ],
 "metadata": {
  "kernelspec": {
   "display_name": "Python 3 (ipykernel)",
   "language": "python",
   "name": "python3"
  },
  "language_info": {
   "codemirror_mode": {
    "name": "ipython",
    "version": 3
   },
   "file_extension": ".py",
   "mimetype": "text/x-python",
   "name": "python",
   "nbconvert_exporter": "python",
   "pygments_lexer": "ipython3",
   "version": "3.11.5"
  }
 },
 "nbformat": 4,
 "nbformat_minor": 5
}
