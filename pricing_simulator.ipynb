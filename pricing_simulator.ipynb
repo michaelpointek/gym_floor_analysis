{
 "cells": [
  {
   "cell_type": "code",
   "execution_count": 5,
   "id": "2b9bb61d-072e-44b7-83b6-0c46ea880efe",
   "metadata": {},
   "outputs": [
    {
     "ename": "NameError",
     "evalue": "name 'df' is not defined",
     "output_type": "error",
     "traceback": [
      "\u001b[1;31m---------------------------------------------------------------------------\u001b[0m",
      "\u001b[1;31mNameError\u001b[0m                                 Traceback (most recent call last)",
      "Cell \u001b[1;32mIn[5], line 12\u001b[0m\n\u001b[0;32m      9\u001b[0m \u001b[38;5;28;01mfrom\u001b[39;00m \u001b[38;5;21;01msklearn\u001b[39;00m\u001b[38;5;21;01m.\u001b[39;00m\u001b[38;5;21;01mmetrics\u001b[39;00m \u001b[38;5;28;01mimport\u001b[39;00m mean_squared_error, r2_score\n\u001b[0;32m     11\u001b[0m label_enc \u001b[38;5;241m=\u001b[39m LabelEncoder()\n\u001b[1;32m---> 12\u001b[0m df[\u001b[38;5;124m'\u001b[39m\u001b[38;5;124mAM\u001b[39m\u001b[38;5;124m'\u001b[39m] \u001b[38;5;241m=\u001b[39m label_enc\u001b[38;5;241m.\u001b[39mfit_transform(df[\u001b[38;5;124m'\u001b[39m\u001b[38;5;124mAM\u001b[39m\u001b[38;5;124m'\u001b[39m])\n",
      "\u001b[1;31mNameError\u001b[0m: name 'df' is not defined"
     ]
    }
   ],
   "source": [
    "import pandas as pd\n",
    "import numpy as np\n",
    "import matplotlib.pyplot as plt\n",
    "import seaborn as sns\n",
    "\n",
    "from sklearn.model_selection import train_test_split\n",
    "from sklearn.ensemble import RandomForestRegressor\n",
    "from sklearn.preprocessing import LabelEncoder\n",
    "from sklearn.metrics import mean_squared_error, r2_score\n",
    "\n",
    "label_enc = LabelEncoder()\n",
    "df['AM'] = label_enc.fit_transform(df['AM'])  # This trains the encoder on all AM names"
   ]
  },
  {
   "cell_type": "code",
   "execution_count": 2,
   "id": "7bf3914c-67d5-4dbb-a957-596910f337f8",
   "metadata": {},
   "outputs": [],
   "source": [
    "# Define a function to simulate GP% for a range of quotes\n",
    "def simulate_pricing(input_data, model, target_gp=0.5, quote_range=(4000, 15000), step=100):\n",
    "    \"\"\"\n",
    "    Simulates GP% for different quote prices to find the minimum quote that meets target GP%.\n",
    "\n",
    "    Parameters:\n",
    "        input_data: dict of job parameters excluding 'Quoted_Price'\n",
    "        model: trained model\n",
    "        target_gp: target gross profit percentage (e.g., 0.5)\n",
    "        quote_range: (min, max) quote range to evaluate\n",
    "        step: increment between quote values\n",
    "    \"\"\"\n",
    "    import copy\n",
    "\n",
    "    # Create dataframe from input\n",
    "    base_features = pd.DataFrame([input_data])\n",
    "\n",
    "    quotes = np.arange(quote_range[0], quote_range[1] + step, step)\n",
    "    gp_preds = []\n",
    "\n",
    "    for q in quotes:\n",
    "        test_row = base_features.copy()\n",
    "        test_row['Quoted_Price'] = q\n",
    "        pred_gp = model.predict(test_row)[0]\n",
    "        gp_preds.append(pred_gp)\n",
    "\n",
    "    # Find minimum quote meeting or exceeding target GP%\n",
    "    quotes = np.array(quotes)\n",
    "    gp_preds = np.array(gp_preds)\n",
    "    meets_target = gp_preds >= target_gp\n",
    "\n",
    "    recommended_quote = None\n",
    "    if any(meets_target):\n",
    "        recommended_quote = quotes[meets_target][0]  # first price that meets goal\n",
    "\n",
    "    # Plot results\n",
    "    plt.figure(figsize=(10, 6))\n",
    "    plt.plot(quotes, gp_preds, label=\"Predicted GP%\")\n",
    "    plt.axhline(y=target_gp, color='r', linestyle='--', label=f\"Target GP%: {target_gp}\")\n",
    "    if recommended_quote:\n",
    "        plt.axvline(x=recommended_quote, color='g', linestyle='--', label=f\"Recommended Quote: ${recommended_quote}\")\n",
    "    plt.title(\"Quote vs Predicted GP%\")\n",
    "    plt.xlabel(\"Quoted Price ($)\")\n",
    "    plt.ylabel(\"Predicted GP%\")\n",
    "    plt.legend()\n",
    "    plt.grid(True)\n",
    "    plt.tight_layout()\n",
    "    plt.show()\n",
    "\n",
    "    if recommended_quote:\n",
    "        print(f\"✅ Recommended minimum quote to meet {target_gp*100:.0f}% GP: ${recommended_quote}\")\n",
    "    else:\n",
    "        print(\"❌ No quote in range meets target GP%. Consider revising job scope or cost structure.\")\n",
    "    "
   ]
  },
  {
   "cell_type": "code",
   "execution_count": 3,
   "id": "e3f2051f-23ba-4e05-a3af-588c58d03653",
   "metadata": {},
   "outputs": [
    {
     "ename": "NameError",
     "evalue": "name 'label_enc' is not defined",
     "output_type": "error",
     "traceback": [
      "\u001b[1;31m---------------------------------------------------------------------------\u001b[0m",
      "\u001b[1;31mNameError\u001b[0m                                 Traceback (most recent call last)",
      "Cell \u001b[1;32mIn[3], line 6\u001b[0m\n\u001b[0;32m      1\u001b[0m job \u001b[38;5;241m=\u001b[39m {\n\u001b[0;32m      2\u001b[0m     \u001b[38;5;124m'\u001b[39m\u001b[38;5;124mSize_sqft\u001b[39m\u001b[38;5;124m'\u001b[39m: \u001b[38;5;241m6100\u001b[39m,\n\u001b[0;32m      3\u001b[0m     \u001b[38;5;124m'\u001b[39m\u001b[38;5;124mCoats\u001b[39m\u001b[38;5;124m'\u001b[39m: \u001b[38;5;241m2\u001b[39m,\n\u001b[0;32m      4\u001b[0m     \u001b[38;5;124m'\u001b[39m\u001b[38;5;124mDistance\u001b[39m\u001b[38;5;124m'\u001b[39m: \u001b[38;5;241m32\u001b[39m,\n\u001b[0;32m      5\u001b[0m     \u001b[38;5;124m'\u001b[39m\u001b[38;5;124mLabor_Hours\u001b[39m\u001b[38;5;124m'\u001b[39m: \u001b[38;5;241m14.25\u001b[39m,\n\u001b[1;32m----> 6\u001b[0m     \u001b[38;5;124m'\u001b[39m\u001b[38;5;124mAM\u001b[39m\u001b[38;5;124m'\u001b[39m: label_enc\u001b[38;5;241m.\u001b[39mtransform([\u001b[38;5;124m'\u001b[39m\u001b[38;5;124mBrad_Miller\u001b[39m\u001b[38;5;124m'\u001b[39m])[\u001b[38;5;241m0\u001b[39m],\n\u001b[0;32m      7\u001b[0m     \u001b[38;5;124m'\u001b[39m\u001b[38;5;124mConcurrent_Job\u001b[39m\u001b[38;5;124m'\u001b[39m: \u001b[38;5;241m1\u001b[39m\n\u001b[0;32m      8\u001b[0m }\n\u001b[0;32m     10\u001b[0m simulate_pricing(input_data\u001b[38;5;241m=\u001b[39mjob, model\u001b[38;5;241m=\u001b[39mrf, target_gp\u001b[38;5;241m=\u001b[39m\u001b[38;5;241m0.5\u001b[39m)\n",
      "\u001b[1;31mNameError\u001b[0m: name 'label_enc' is not defined"
     ]
    }
   ],
   "source": [
    "job = {\n",
    "    'Size_sqft': 6100,\n",
    "    'Coats': 2,\n",
    "    'Distance': 32,\n",
    "    'Labor_Hours': 14.25,\n",
    "    'AM': label_enc.transform(['Brad_Miller'])[0],\n",
    "    'Concurrent_Job': 1\n",
    "}\n",
    "\n",
    "simulate_pricing(input_data=job, model=rf, target_gp=0.5)"
   ]
  },
  {
   "cell_type": "code",
   "execution_count": null,
   "id": "be03e114-0165-4b83-b473-41f641eeea96",
   "metadata": {},
   "outputs": [],
   "source": []
  }
 ],
 "metadata": {
  "kernelspec": {
   "display_name": "Python 3 (ipykernel)",
   "language": "python",
   "name": "python3"
  },
  "language_info": {
   "codemirror_mode": {
    "name": "ipython",
    "version": 3
   },
   "file_extension": ".py",
   "mimetype": "text/x-python",
   "name": "python",
   "nbconvert_exporter": "python",
   "pygments_lexer": "ipython3",
   "version": "3.11.5"
  }
 },
 "nbformat": 4,
 "nbformat_minor": 5
}
