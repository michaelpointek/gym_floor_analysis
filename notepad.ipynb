{
 "cells": [
  {
   "cell_type": "code",
   "execution_count": 1,
   "id": "d661a732-2479-4f54-9dcc-844cb7927a77",
   "metadata": {},
   "outputs": [],
   "source": [
    "import pandas as pd\n",
    "import numpy as np"
   ]
  },
  {
   "cell_type": "code",
   "execution_count": 2,
   "id": "78b3582a-e04c-49b6-a97d-3f47ae1230a8",
   "metadata": {},
   "outputs": [],
   "source": [
    "# Load and clean the dataset\n",
    "df = pd.read_csv(\"data\\gym_floor_raw.csv\")"
   ]
  },
  {
   "cell_type": "code",
   "execution_count": 3,
   "id": "5aad73ee-07ad-4e4c-8088-97524bd02bdb",
   "metadata": {},
   "outputs": [
    {
     "data": {
      "image/png": "[encoded data removed]",
      "text/plain": [
       "<Figure size 640x480 with 1 Axes>"
      ]
     },
     "metadata": {},
     "output_type": "display_data"
    }
   ],
   "source": [
    "import matplotlib.pyplot as plt\n",
    "\n",
    "df[\"Quoted_Price_per_sqft\"] = df[\"Quoted_Price\"] / df[\"Size_sqft\"]\n",
    "plt.scatter(df[\"Quoted_Price_per_sqft\"], df[\"GP_Percent\"])\n",
    "plt.xlabel(\"Price per Sqft\")\n",
    "plt.ylabel(\"GP%\")\n",
    "plt.title(\"GP% vs Price\")\n",
    "plt.show()"
   ]
  },
  {
   "cell_type": "code",
   "execution_count": 4,
   "id": "448c6dff-fb4d-453f-b264-e06d82c4095e",
   "metadata": {},
   "outputs": [
    {
     "data": {
      "text/html": [
       "<div>\n",
       "<style scoped>\n",
       "    .dataframe tbody tr th:only-of-type {\n",
       "        vertical-align: middle;\n",
       "    }\n",
       "\n",
       "    .dataframe tbody tr th {\n",
       "        vertical-align: top;\n",
       "    }\n",
       "\n",
       "    .dataframe thead th {\n",
       "        text-align: right;\n",
       "    }\n",
       "</style>\n",
       "<table border=\"1\" class=\"dataframe\">\n",
       "  <thead>\n",
       "    <tr style=\"text-align: right;\">\n",
       "      <th></th>\n",
       "      <th>count</th>\n",
       "      <th>mean</th>\n",
       "      <th>std</th>\n",
       "      <th>min</th>\n",
       "      <th>25%</th>\n",
       "      <th>50%</th>\n",
       "      <th>75%</th>\n",
       "      <th>max</th>\n",
       "    </tr>\n",
       "    <tr>\n",
       "      <th>Coats</th>\n",
       "      <th></th>\n",
       "      <th></th>\n",
       "      <th></th>\n",
       "      <th></th>\n",
       "      <th></th>\n",
       "      <th></th>\n",
       "      <th></th>\n",
       "      <th></th>\n",
       "    </tr>\n",
       "  </thead>\n",
       "  <tbody>\n",
       "    <tr>\n",
       "      <th>1.0</th>\n",
       "      <td>8.0</td>\n",
       "      <td>1768.656250</td>\n",
       "      <td>761.910961</td>\n",
       "      <td>1063.78</td>\n",
       "      <td>1306.0175</td>\n",
       "      <td>1612.080</td>\n",
       "      <td>1816.9275</td>\n",
       "      <td>3499.25</td>\n",
       "    </tr>\n",
       "    <tr>\n",
       "      <th>2.0</th>\n",
       "      <td>26.0</td>\n",
       "      <td>2718.066154</td>\n",
       "      <td>486.903424</td>\n",
       "      <td>2017.23</td>\n",
       "      <td>2382.9250</td>\n",
       "      <td>2620.185</td>\n",
       "      <td>3012.9025</td>\n",
       "      <td>3907.96</td>\n",
       "    </tr>\n",
       "  </tbody>\n",
       "</table>\n",
       "</div>"
      ],
      "text/plain": [
       "       count         mean         std      min        25%       50%  \\\n",
       "Coats                                                                 \n",
       "1.0      8.0  1768.656250  761.910961  1063.78  1306.0175  1612.080   \n",
       "2.0     26.0  2718.066154  486.903424  2017.23  2382.9250  2620.185   \n",
       "\n",
       "             75%      max  \n",
       "Coats                      \n",
       "1.0    1816.9275  3499.25  \n",
       "2.0    3012.9025  3907.96  "
      ]
     },
     "execution_count": 4,
     "metadata": {},
     "output_type": "execute_result"
    }
   ],
   "source": [
    "df.groupby(\"Coats\")[\"v_mat_cost\"].describe()"
   ]
  },
  {
   "cell_type": "code",
   "execution_count": 5,
   "id": "8d2a526f-6f33-45bb-b713-4b52cd778420",
   "metadata": {},
   "outputs": [
    {
     "data": {
      "text/html": [
       "<div>\n",
       "<style scoped>\n",
       "    .dataframe tbody tr th:only-of-type {\n",
       "        vertical-align: middle;\n",
       "    }\n",
       "\n",
       "    .dataframe tbody tr th {\n",
       "        vertical-align: top;\n",
       "    }\n",
       "\n",
       "    .dataframe thead th {\n",
       "        text-align: right;\n",
       "    }\n",
       "</style>\n",
       "<table border=\"1\" class=\"dataframe\">\n",
       "  <thead>\n",
       "    <tr style=\"text-align: right;\">\n",
       "      <th></th>\n",
       "      <th>count</th>\n",
       "      <th>mean</th>\n",
       "      <th>std</th>\n",
       "      <th>min</th>\n",
       "      <th>25%</th>\n",
       "      <th>50%</th>\n",
       "      <th>75%</th>\n",
       "      <th>max</th>\n",
       "    </tr>\n",
       "    <tr>\n",
       "      <th>Coats</th>\n",
       "      <th></th>\n",
       "      <th></th>\n",
       "      <th></th>\n",
       "      <th></th>\n",
       "      <th></th>\n",
       "      <th></th>\n",
       "      <th></th>\n",
       "      <th></th>\n",
       "    </tr>\n",
       "  </thead>\n",
       "  <tbody>\n",
       "    <tr>\n",
       "      <th>1.0</th>\n",
       "      <td>8.0</td>\n",
       "      <td>0.196579</td>\n",
       "      <td>0.021511</td>\n",
       "      <td>0.181779</td>\n",
       "      <td>0.184101</td>\n",
       "      <td>0.186882</td>\n",
       "      <td>0.200648</td>\n",
       "      <td>0.245536</td>\n",
       "    </tr>\n",
       "    <tr>\n",
       "      <th>2.0</th>\n",
       "      <td>26.0</td>\n",
       "      <td>0.318048</td>\n",
       "      <td>0.033031</td>\n",
       "      <td>0.264419</td>\n",
       "      <td>0.297772</td>\n",
       "      <td>0.322152</td>\n",
       "      <td>0.337904</td>\n",
       "      <td>0.372284</td>\n",
       "    </tr>\n",
       "  </tbody>\n",
       "</table>\n",
       "</div>"
      ],
      "text/plain": [
       "       count      mean       std       min       25%       50%       75%  \\\n",
       "Coats                                                                      \n",
       "1.0      8.0  0.196579  0.021511  0.181779  0.184101  0.186882  0.200648   \n",
       "2.0     26.0  0.318048  0.033031  0.264419  0.297772  0.322152  0.337904   \n",
       "\n",
       "            max  \n",
       "Coats            \n",
       "1.0    0.245536  \n",
       "2.0    0.372284  "
      ]
     },
     "execution_count": 5,
     "metadata": {},
     "output_type": "execute_result"
    }
   ],
   "source": [
    "df[\"v_cost_per_sqft\"] = df[\"v_mat_cost\"] / df[\"Size_sqft\"]\n",
    "df.groupby(\"Coats\")[\"v_cost_per_sqft\"].describe()"
   ]
  },
  {
   "cell_type": "code",
   "execution_count": null,
   "id": "1082f0c3-6eeb-4bc4-8c0c-511572b06355",
   "metadata": {},
   "outputs": [],
   "source": []
  }
 ],
 "metadata": {
  "kernelspec": {
   "display_name": "Python 3 (ipykernel)",
   "language": "python",
   "name": "python3"
  },
  "language_info": {
   "codemirror_mode": {
    "name": "ipython",
    "version": 3
   },
   "file_extension": ".py",
   "mimetype": "text/x-python",
   "name": "python",
   "nbconvert_exporter": "python",
   "pygments_lexer": "ipython3",
   "version": "3.11.5"
  }
 },
 "nbformat": 4,
 "nbformat_minor": 5
}
